{
 "cells": [
  {
   "cell_type": "markdown",
   "id": "74ab0700",
   "metadata": {},
   "source": [
    "# Python Programming Exercises"
   ]
  },
  {
   "cell_type": "markdown",
   "id": "78c38836",
   "metadata": {},
   "source": [
    "### Exercise 1\n",
    "Write a program to solve a classic puzzle: There are 35 heads and 94 legs among the chickens and rabbits in a farm. How many rabbits and how many chickens do we have? Hint: Use for loop to iterate all possible solutions"
   ]
  },
  {
   "cell_type": "code",
   "execution_count": 1,
   "id": "14429ce0",
   "metadata": {},
   "outputs": [
    {
     "name": "stdout",
     "output_type": "stream",
     "text": [
      "We have 23 chickens and 12 rabbits.\n"
     ]
    }
   ],
   "source": [
    "# c: the number of chickens\n",
    "# r: the number of rabbits\n",
    "# c + r = 35\n",
    "# 2*c + 4*r = 94\n",
    "\n",
    "for r in range(36):\n",
    "    c = 35 - r\n",
    "    if 2*c + 4*r == 94:\n",
    "        print(f'We have {c} chickens and {r} rabbits.')"
   ]
  },
  {
   "cell_type": "markdown",
   "id": "00d5ed6e",
   "metadata": {},
   "source": [
    "### Exercise 2\n",
    "In this exercise, the task is to read a set of temperature data (the monthly high temperatures at Heathrow Airport from Jan 1948 through Dec 2016) from a file and then find some basic information: the highest and lowest temperatures, the mean (average) temperature, and the median temperature (the temperature in the middle if all the temperatures are sorted). The temperature data is in the file “data/Heathrow.txt”."
   ]
  },
  {
   "cell_type": "code",
   "execution_count": 9,
   "id": "834aaae2",
   "metadata": {},
   "outputs": [
    {
     "name": "stdout",
     "output_type": "stream",
     "text": [
      "lowest=0.8, highest=28.2, mean=14.848309178743966, median=14.7\n"
     ]
    }
   ],
   "source": [
    "with open('data/Heathrow.txt', 'r') as f:\n",
    "    rawdata = f.read()\n",
    "\n",
    "# print(rawdata.encode())\n",
    "data = rawdata.split('\\n')\n",
    "# print(data)\n",
    "temperatures = [float(s) for s in data if s != '']\n",
    "temperatures.sort()\n",
    "\n",
    "lowest = temperatures[0]\n",
    "highest = temperatures[-1]\n",
    "mean = sum(temperatures)/len(temperatures)\n",
    "\n",
    "if len(temperatures) % 2 == 1:\n",
    "    median = temperatures[len(temperatures)//2]  # for odd number of elements\n",
    "else:\n",
    "    median = (temperatures[len(temperatures)//2 - 1] + temperatures[len(temperatures)//2]) / 2\n",
    "\n",
    "print(f'{lowest=}, {highest=}, {mean=}, {median=}')"
   ]
  },
  {
   "cell_type": "markdown",
   "id": "cfcc5c07",
   "metadata": {},
   "source": [
    "### Exercise 3\n",
    "For the problem in Exercise 1, use NumPy by applying linear algebra to find the solution."
   ]
  },
  {
   "cell_type": "code",
   "execution_count": 12,
   "id": "5b59253e",
   "metadata": {},
   "outputs": [
    {
     "name": "stdout",
     "output_type": "stream",
     "text": [
      "We have 23 chickens and 12 rabbits.\n"
     ]
    }
   ],
   "source": [
    "# c + r = 35\n",
    "# 2*c + 4*r = 94\n",
    "import numpy as np\n",
    "\n",
    "coeffs = np.array([[1, 1], [2, 4]])\n",
    "depvars = np.array([35, 94])\n",
    "\n",
    "solution = np.linalg.solve(coeffs, depvars)\n",
    "print(f'We have {solution[0]:.0f} chickens and {int(solution[1])} rabbits.')"
   ]
  },
  {
   "cell_type": "markdown",
   "id": "cddd0ae9",
   "metadata": {},
   "source": [
    "### Exercise 4\n",
    "Solve Exercise 2 by using NumPy."
   ]
  },
  {
   "cell_type": "code",
   "execution_count": 15,
   "id": "1faa015d",
   "metadata": {},
   "outputs": [
    {
     "name": "stdout",
     "output_type": "stream",
     "text": [
      "Lowest=0.8, highest=28.2\n",
      "Mean=14.848309178743962, median=14.7\n"
     ]
    }
   ],
   "source": [
    "import numpy as np\n",
    "\n",
    "temp = np.loadtxt('data/Heathrow.txt')\n",
    "# print(temp)\n",
    "\n",
    "print(f'Lowest={np.min(temp)}, highest={np.max(temp)}')\n",
    "print(f'Mean={np.mean(temp)}, median={np.median(temp)}')"
   ]
  },
  {
   "cell_type": "markdown",
   "id": "97255668",
   "metadata": {},
   "source": [
    "### Exercise 5\n",
    "Solve Exercise 2 by using Pandas. In addition, find out the coldest month and the hottest month between 1948 and 2016. Plot the mean temperature for each month."
   ]
  },
  {
   "cell_type": "code",
   "execution_count": 39,
   "id": "3311ec3b",
   "metadata": {},
   "outputs": [
    {
     "name": "stdout",
     "output_type": "stream",
     "text": [
      "             Temp\n",
      "min      0.800000\n",
      "max     28.200000\n",
      "median  14.700000\n",
      "mean    14.848309\n",
      "Coldest year and month: Temp    0.8\n",
      "Name: 1963-01, dtype: float64\n",
      "Hottest year and month: Temp    28.2\n",
      "Name: 2006-07, dtype: float64\n"
     ]
    },
    {
     "data": {
      "image/png": "[encoded data removed]",
      "text/plain": [
       "<Figure size 432x288 with 1 Axes>"
      ]
     },
     "metadata": {
      "needs_background": "light"
     },
     "output_type": "display_data"
    }
   ],
   "source": [
    "import pandas as pd\n",
    "import matplotlib.pyplot as plt\n",
    "\n",
    "df = pd.read_csv('data/Heathrow.txt', header=None, names=['Temp'])\n",
    "\n",
    "print(df.aggregate(['min', 'max', 'median', 'mean']))\n",
    "\n",
    "df.index = pd.period_range(start=1948, periods=len(df), freq='M')\n",
    "\n",
    "df.sort_values(by=['Temp'], inplace=True)\n",
    "\n",
    "print(f'Coldest year and month: {df.iloc[0]}')\n",
    "print(f'Hottest year and month: {df.iloc[-1]}')\n",
    "\n",
    "groups = df.groupby(df.index.month)\n",
    "groups.mean().plot.bar()\n",
    "for i, j in enumerate(groups.mean().values):\n",
    "    plt.text(i-0.4, j+0.2, f'{j[0]:.2f}', color='red')\n",
    "plt.show()"
   ]
  },
  {
   "cell_type": "markdown",
   "id": "f2ec789a",
   "metadata": {},
   "source": [
    "### Exercise 6\n",
    "Plot two cycles of a sinusoidal voltage waveform with an amplitude of 2 and frequency of 50Hz and a DC offset of 5V. Calculate the average voltage and root mean square (RMS) voltage."
   ]
  },
  {
   "cell_type": "code",
   "execution_count": null,
   "id": "64f05ca5",
   "metadata": {},
   "outputs": [],
   "source": []
  },
  {
   "cell_type": "markdown",
   "id": "0bcccd92",
   "metadata": {},
   "source": [
    "### Exercise 7\n",
    "Below are the data points of a sawtooth current:\\\n",
    "    f2 = 50\\\n",
    "    t2 = np.linspace(0, 0.04, 41)\\\n",
    "    i = 2 * (f2 * t2 - np.floor(0.5 + f2 * t2)) + 1\n",
    "\n",
    "Plot the current and the power if the voltage is as shown in Exercise 6."
   ]
  },
  {
   "cell_type": "code",
   "execution_count": null,
   "id": "f09397df",
   "metadata": {},
   "outputs": [],
   "source": []
  },
  {
   "cell_type": "markdown",
   "id": "ecf4531b",
   "metadata": {},
   "source": [
    "### Exercise 8\n",
    "A voltage waveform has been downloaded from an oscilloscope by using PyVISA. The waveform is stored in the CSV file format and the file can be accessed as 'data/waveform_data.csv'. Load and plot the waveform from the CSV file."
   ]
  },
  {
   "cell_type": "code",
   "execution_count": null,
   "id": "b53e91d0",
   "metadata": {
    "scrolled": true
   },
   "outputs": [],
   "source": []
  }
 ],
 "metadata": {
  "kernelspec": {
   "display_name": "Python 3.9.12 ('py3912')",
   "language": "python",
   "name": "python3"
  },
  "language_info": {
   "codemirror_mode": {
    "name": "ipython",
    "version": 3
   },
   "file_extension": ".py",
   "mimetype": "text/x-python",
   "name": "python",
   "nbconvert_exporter": "python",
   "pygments_lexer": "ipython3",
   "version": "3.9.12"
  },
  "vscode": {
   "interpreter": {
    "hash": "9e7d21c8ad8e3bbf31f934533113272036caf2d9f702b5afb352e952d3de09f6"
   }
  }
 },
 "nbformat": 4,
 "nbformat_minor": 5
}
