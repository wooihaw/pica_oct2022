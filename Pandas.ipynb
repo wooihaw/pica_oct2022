{
 "cells": [
  {
   "cell_type": "markdown",
   "id": "f2a9ad4f",
   "metadata": {},
   "source": [
    "# Pandas\n",
    "The Pandas library provides high-performance, easy-to-use data structures and analysis tools for tabular data"
   ]
  },
  {
   "cell_type": "code",
   "execution_count": 1,
   "id": "2f6b7e48",
   "metadata": {},
   "outputs": [],
   "source": [
    "# Standard way to import the Pandas library\n",
    "import pandas as pd\n",
    "\n",
    "# Usually used together with NumPy and Matplotlib\n",
    "import numpy as np\n",
    "import matplotlib.pyplot as plt"
   ]
  },
  {
   "cell_type": "code",
   "execution_count": 2,
   "id": "1221cceb",
   "metadata": {},
   "outputs": [
    {
     "name": "stdout",
     "output_type": "stream",
     "text": [
      "0     0.000000e+00\n",
      "1     5.877853e-01\n",
      "2     9.510565e-01\n",
      "3     9.510565e-01\n",
      "4     5.877853e-01\n",
      "5     1.224647e-16\n",
      "6    -5.877853e-01\n",
      "7    -9.510565e-01\n",
      "8    -9.510565e-01\n",
      "9    -5.877853e-01\n",
      "10   -2.449294e-16\n",
      "Name: y1, dtype: float64\n"
     ]
    }
   ],
   "source": [
    "# Create a Pandas series from array\n",
    "f1 = 1\n",
    "x1 = np.linspace(0, 1, 11)\n",
    "y1 = np.sin(2 * np.pi * f1 * x1)\n",
    "\n",
    "# Create a series\n",
    "signal1 = pd.Series(y1, name='y1')\n",
    "print(signal1) "
   ]
  },
  {
   "cell_type": "code",
   "execution_count": 3,
   "id": "efcc6684",
   "metadata": {
    "scrolled": true
   },
   "outputs": [
    {
     "name": "stdout",
     "output_type": "stream",
     "text": [
      "0 days 00:00:00           0.000000e+00\n",
      "0 days 00:00:00.100000    5.877853e-01\n",
      "0 days 00:00:00.200000    9.510565e-01\n",
      "0 days 00:00:00.300000    9.510565e-01\n",
      "0 days 00:00:00.400000    5.877853e-01\n",
      "0 days 00:00:00.500000    1.224647e-16\n",
      "0 days 00:00:00.600000   -5.877853e-01\n",
      "0 days 00:00:00.700000   -9.510565e-01\n",
      "0 days 00:00:00.800000   -9.510565e-01\n",
      "0 days 00:00:00.900000   -5.877853e-01\n",
      "0 days 00:00:01          -2.449294e-16\n",
      "Name: y1, dtype: float64\n"
     ]
    }
   ],
   "source": [
    "# Use timedelta to the Series\n",
    "signal1.index = pd.to_timedelta(x1, unit='s')\n",
    "print(signal1)"
   ]
  },
  {
   "cell_type": "markdown",
   "id": "87b086e4",
   "metadata": {},
   "source": [
    "## # Select data by index value"
   ]
  },
  {
   "cell_type": "code",
   "execution_count": 4,
   "id": "9574580c",
   "metadata": {},
   "outputs": [
    {
     "name": "stdout",
     "output_type": "stream",
     "text": [
      "1.2246467991473532e-16\n",
      "1.2246467991473532e-16\n"
     ]
    }
   ],
   "source": [
    "# Just like a dictionary\n",
    "print(signal1['0.5s'])\n",
    "\n",
    "# Or by index position--like an array\n",
    "print(signal1[5])"
   ]
  },
  {
   "cell_type": "markdown",
   "id": "cd69bb13",
   "metadata": {},
   "source": [
    "## Resample data"
   ]
  },
  {
   "cell_type": "code",
   "execution_count": 5,
   "id": "0277e244",
   "metadata": {},
   "outputs": [
    {
     "name": "stdout",
     "output_type": "stream",
     "text": [
      "0 days 00:00:00           0.000000e+00\n",
      "0 days 00:00:00.050000    2.938926e-01\n",
      "0 days 00:00:00.100000    5.877853e-01\n",
      "0 days 00:00:00.150000    7.694209e-01\n",
      "0 days 00:00:00.200000    9.510565e-01\n",
      "0 days 00:00:00.250000    9.510565e-01\n",
      "0 days 00:00:00.300000    9.510565e-01\n",
      "0 days 00:00:00.350000    7.694209e-01\n",
      "0 days 00:00:00.400000    5.877853e-01\n",
      "0 days 00:00:00.450000    2.938926e-01\n",
      "0 days 00:00:00.500000    1.224647e-16\n",
      "0 days 00:00:00.550000   -2.938926e-01\n",
      "0 days 00:00:00.600000   -5.877853e-01\n",
      "0 days 00:00:00.650000   -7.694209e-01\n",
      "0 days 00:00:00.700000   -9.510565e-01\n",
      "0 days 00:00:00.750000   -9.510565e-01\n",
      "0 days 00:00:00.800000   -9.510565e-01\n",
      "0 days 00:00:00.850000   -7.694209e-01\n",
      "0 days 00:00:00.900000   -5.877853e-01\n",
      "0 days 00:00:00.950000   -2.938926e-01\n",
      "0 days 00:00:01          -2.449294e-16\n",
      "Freq: 50L, Name: y1, dtype: float64\n"
     ]
    }
   ],
   "source": [
    "# Up-sampling\n",
    "signal2 = signal1.resample('50ms').interpolate(method='linear')\n",
    "print(signal2)"
   ]
  },
  {
   "cell_type": "code",
   "execution_count": 6,
   "id": "557c9cc8",
   "metadata": {},
   "outputs": [
    {
     "name": "stdout",
     "output_type": "stream",
     "text": [
      "0 days 00:00:00           0.000000e+00\n",
      "0 days 00:00:00.200000    9.510565e-01\n",
      "0 days 00:00:00.400000    5.877853e-01\n",
      "0 days 00:00:00.600000   -5.877853e-01\n",
      "0 days 00:00:00.800000   -9.510565e-01\n",
      "0 days 00:00:01          -2.449294e-16\n",
      "Freq: 200L, Name: y1, dtype: float64\n"
     ]
    }
   ],
   "source": [
    "# Down-sampling\n",
    "signal3 = signal1.resample('200ms').asfreq()\n",
    "print(signal3)"
   ]
  },
  {
   "cell_type": "markdown",
   "id": "9750b0fc",
   "metadata": {},
   "source": [
    "## Invalid/Missing data can be easily filled with values"
   ]
  },
  {
   "cell_type": "code",
   "execution_count": 7,
   "id": "a982aa4d",
   "metadata": {},
   "outputs": [
    {
     "name": "stdout",
     "output_type": "stream",
     "text": [
      "0 days 00:00:00           0.000000e+00\n",
      "0 days 00:00:00.100000             NaN\n",
      "0 days 00:00:00.200000             NaN\n",
      "0 days 00:00:00.300000    9.510565e-01\n",
      "0 days 00:00:00.400000    5.877853e-01\n",
      "0 days 00:00:00.500000    1.224647e-16\n",
      "0 days 00:00:00.600000   -5.877853e-01\n",
      "0 days 00:00:00.700000   -9.510565e-01\n",
      "0 days 00:00:00.800000   -9.510565e-01\n",
      "0 days 00:00:00.900000   -5.877853e-01\n",
      "0 days 00:00:01          -2.449294e-16\n",
      "Name: y1, dtype: float64\n"
     ]
    }
   ],
   "source": [
    "# Create invalid data\n",
    "signal1[1:3] = np.NaN\n",
    "print(signal1)"
   ]
  },
  {
   "cell_type": "code",
   "execution_count": 8,
   "id": "e97119d2",
   "metadata": {},
   "outputs": [
    {
     "name": "stdout",
     "output_type": "stream",
     "text": [
      "0 days 00:00:00           0.000000e+00\n",
      "0 days 00:00:00.100000    0.000000e+00\n",
      "0 days 00:00:00.200000    0.000000e+00\n",
      "0 days 00:00:00.300000    9.510565e-01\n",
      "0 days 00:00:00.400000    5.877853e-01\n",
      "0 days 00:00:00.500000    1.224647e-16\n",
      "0 days 00:00:00.600000   -5.877853e-01\n",
      "0 days 00:00:00.700000   -9.510565e-01\n",
      "0 days 00:00:00.800000   -9.510565e-01\n",
      "0 days 00:00:00.900000   -5.877853e-01\n",
      "0 days 00:00:01          -2.449294e-16\n",
      "Name: y1, dtype: float64\n"
     ]
    }
   ],
   "source": [
    "# Now fill it in with zeros\n",
    "signal1 = signal1.fillna(0)\n",
    "# equivalently, \n",
    "# step_counts.fillna(0., inplace=True)\n",
    "\n",
    "print(signal1)"
   ]
  },
  {
   "cell_type": "markdown",
   "id": "735b2d41",
   "metadata": {},
   "source": [
    "## Pandas DataFrame"
   ]
  },
  {
   "cell_type": "code",
   "execution_count": 9,
   "id": "c1275cc2",
   "metadata": {},
   "outputs": [
    {
     "name": "stdout",
     "output_type": "stream",
     "text": [
      "[0.00000000e+00 3.09016994e-01 5.87785252e-01 8.09016994e-01\n",
      " 9.51056516e-01 1.00000000e+00 9.51056516e-01 8.09016994e-01\n",
      " 5.87785252e-01 3.09016994e-01 1.22464680e-16]\n",
      "[ 0.00000000e+00  5.87785252e-01  9.51056516e-01  9.51056516e-01\n",
      "  5.87785252e-01  1.22464680e-16 -5.87785252e-01 -9.51056516e-01\n",
      " -9.51056516e-01 -5.87785252e-01 -2.44929360e-16]\n"
     ]
    }
   ],
   "source": [
    "# Create DataFrame from NumPy arrays\n",
    "f1, f2 = 0.5, 1\n",
    "x = np.linspace(0, 1, 11)\n",
    "y1 = np.sin(2 * np.pi * f1 * x)\n",
    "y2 = np.sin(2 * np.pi * f2 * x)\n",
    "\n",
    "print(y1)\n",
    "print(y2)"
   ]
  },
  {
   "cell_type": "code",
   "execution_count": 10,
   "id": "7d210568",
   "metadata": {},
   "outputs": [
    {
     "name": "stdout",
     "output_type": "stream",
     "text": [
      "              y1            y2\n",
      "0   0.000000e+00  0.000000e+00\n",
      "1   3.090170e-01  5.877853e-01\n",
      "2   5.877853e-01  9.510565e-01\n",
      "3   8.090170e-01  9.510565e-01\n",
      "4   9.510565e-01  5.877853e-01\n",
      "5   1.000000e+00  1.224647e-16\n",
      "6   9.510565e-01 -5.877853e-01\n",
      "7   8.090170e-01 -9.510565e-01\n",
      "8   5.877853e-01 -9.510565e-01\n",
      "9   3.090170e-01 -5.877853e-01\n",
      "10  1.224647e-16 -2.449294e-16\n",
      "                                  y1            y2\n",
      "0 days 00:00:00         0.000000e+00  0.000000e+00\n",
      "0 days 00:00:00.100000  3.090170e-01  5.877853e-01\n",
      "0 days 00:00:00.200000  5.877853e-01  9.510565e-01\n",
      "0 days 00:00:00.300000  8.090170e-01  9.510565e-01\n",
      "0 days 00:00:00.400000  9.510565e-01  5.877853e-01\n",
      "0 days 00:00:00.500000  1.000000e+00  1.224647e-16\n",
      "0 days 00:00:00.600000  9.510565e-01 -5.877853e-01\n",
      "0 days 00:00:00.700000  8.090170e-01 -9.510565e-01\n",
      "0 days 00:00:00.800000  5.877853e-01 -9.510565e-01\n",
      "0 days 00:00:00.900000  3.090170e-01 -5.877853e-01\n",
      "0 days 00:00:01         1.224647e-16 -2.449294e-16\n"
     ]
    }
   ],
   "source": [
    "# Create DataFrame\n",
    "df = pd.DataFrame(data={'y1':y1, 'y2':y2})\n",
    "print(df)\n",
    "df.index = pd.to_timedelta(x, unit='s')\n",
    "print(df)"
   ]
  },
  {
   "cell_type": "markdown",
   "id": "584e684d",
   "metadata": {},
   "source": [
    "## DataFrame rows can be indexed by row using the 'loc' and 'iloc' methods"
   ]
  },
  {
   "cell_type": "code",
   "execution_count": 11,
   "id": "e3f9adf9",
   "metadata": {},
   "outputs": [
    {
     "name": "stdout",
     "output_type": "stream",
     "text": [
      "y1    0.587785\n",
      "y2   -0.951057\n",
      "Name: 0 days 00:00:00.800000, dtype: float64\n"
     ]
    }
   ],
   "source": [
    "# Select row of data by index name\n",
    "print(df.loc['0.8s'])"
   ]
  },
  {
   "cell_type": "code",
   "execution_count": 12,
   "id": "266426df",
   "metadata": {},
   "outputs": [
    {
     "name": "stdout",
     "output_type": "stream",
     "text": [
      "y1    0.587785\n",
      "y2   -0.951057\n",
      "Name: 0 days 00:00:00.800000, dtype: float64\n"
     ]
    }
   ],
   "source": [
    "# Select row of data by integer position\n",
    "print(df.iloc[-3])"
   ]
  },
  {
   "cell_type": "markdown",
   "id": "6090cf41",
   "metadata": {},
   "source": [
    "## DataFrame columns can be indexed by row using 'loc' and 'iloc' methods"
   ]
  },
  {
   "cell_type": "code",
   "execution_count": 13,
   "id": "dba58c7d",
   "metadata": {},
   "outputs": [
    {
     "name": "stdout",
     "output_type": "stream",
     "text": [
      "0 days 00:00:00           0.000000e+00\n",
      "0 days 00:00:00.100000    5.877853e-01\n",
      "0 days 00:00:00.200000    9.510565e-01\n",
      "0 days 00:00:00.300000    9.510565e-01\n",
      "0 days 00:00:00.400000    5.877853e-01\n",
      "0 days 00:00:00.500000    1.224647e-16\n",
      "0 days 00:00:00.600000   -5.877853e-01\n",
      "0 days 00:00:00.700000   -9.510565e-01\n",
      "0 days 00:00:00.800000   -9.510565e-01\n",
      "0 days 00:00:00.900000   -5.877853e-01\n",
      "0 days 00:00:01          -2.449294e-16\n",
      "Name: y2, dtype: float64\n"
     ]
    }
   ],
   "source": [
    "# Dictionary approach\n",
    "print(df['y2'])"
   ]
  },
  {
   "cell_type": "code",
   "execution_count": 14,
   "id": "6ff1afa2",
   "metadata": {},
   "outputs": [
    {
     "name": "stdout",
     "output_type": "stream",
     "text": [
      "0 days 00:00:00           0.000000e+00\n",
      "0 days 00:00:00.100000    5.877853e-01\n",
      "0 days 00:00:00.200000    9.510565e-01\n",
      "0 days 00:00:00.300000    9.510565e-01\n",
      "0 days 00:00:00.400000    5.877853e-01\n",
      "0 days 00:00:00.500000    1.224647e-16\n",
      "0 days 00:00:00.600000   -5.877853e-01\n",
      "0 days 00:00:00.700000   -9.510565e-01\n",
      "0 days 00:00:00.800000   -9.510565e-01\n",
      "0 days 00:00:00.900000   -5.877853e-01\n",
      "0 days 00:00:01          -2.449294e-16\n",
      "Name: y2, dtype: float64\n"
     ]
    }
   ],
   "source": [
    "# First column (Column 1)\n",
    "print(df.iloc[:,1])"
   ]
  },
  {
   "cell_type": "markdown",
   "id": "c4daed9c",
   "metadata": {},
   "source": [
    "## Pandas has built-in methods that simplify creating visualizations from DataFrame and Series"
   ]
  },
  {
   "cell_type": "code",
   "execution_count": 15,
   "id": "1d4caa6c",
   "metadata": {},
   "outputs": [
    {
     "data": {
      "image/png": "[encoded data removed]",
      "text/plain": [
       "<Figure size 432x288 with 1 Axes>"
      ]
     },
     "metadata": {
      "needs_background": "light"
     },
     "output_type": "display_data"
    }
   ],
   "source": [
    "# plot the Series\n",
    "signal2.plot()\n",
    "plt.show()"
   ]
  },
  {
   "cell_type": "code",
   "execution_count": 16,
   "id": "fb857b85",
   "metadata": {},
   "outputs": [
    {
     "data": {
      "image/png": "[encoded data removed]",
      "text/plain": [
       "<Figure size 432x288 with 1 Axes>"
      ]
     },
     "metadata": {
      "needs_background": "light"
     },
     "output_type": "display_data"
    }
   ],
   "source": [
    "# plot the DataFrame\n",
    "df.plot(marker='*', title='DataFrame Plot')\n",
    "plt.show()"
   ]
  },
  {
   "cell_type": "markdown",
   "id": "590e4f49",
   "metadata": {},
   "source": [
    "## CSV and other common filetypes can be read with a single command"
   ]
  },
  {
   "cell_type": "code",
   "execution_count": 17,
   "id": "92fb0afc",
   "metadata": {},
   "outputs": [
    {
     "name": "stdout",
     "output_type": "stream",
     "text": [
      "   sepal_length  sepal_width  petal_length  petal_width      species\n",
      "0           5.1          3.5           1.4          0.2  Iris-setosa\n",
      "1           4.9          3.0           1.4          0.2  Iris-setosa\n",
      "2           4.7          3.2           1.3          0.2  Iris-setosa\n",
      "3           4.6          3.1           1.5          0.2  Iris-setosa\n",
      "4           5.0          3.6           1.4          0.2  Iris-setosa\n"
     ]
    }
   ],
   "source": [
    "# The location of the data file\n",
    "filepath = 'data/iris_data.csv'\n",
    "\n",
    "# Import the data\n",
    "data = pd.read_csv(filepath)\n",
    "\n",
    "# Print a few rows \n",
    "print(data.iloc[:5])"
   ]
  },
  {
   "cell_type": "markdown",
   "id": "9adf6d66",
   "metadata": {},
   "source": [
    "## Using the groupby method calculated aggregated DataFrame statistics."
   ]
  },
  {
   "cell_type": "code",
   "execution_count": 18,
   "id": "f7e84517",
   "metadata": {},
   "outputs": [
    {
     "name": "stdout",
     "output_type": "stream",
     "text": [
      "species\n",
      "Iris-setosa        50\n",
      "Iris-versicolor    50\n",
      "Iris-virginica     50\n",
      "dtype: int64\n"
     ]
    }
   ],
   "source": [
    "# Use the size method with a \n",
    "# DataFrame to get count\n",
    "# For a Series, use the .value_counts \n",
    "# method\n",
    "group_sizes = (data.groupby('species').size())\n",
    "\n",
    "print(group_sizes)"
   ]
  },
  {
   "cell_type": "markdown",
   "id": "095bf5e4",
   "metadata": {},
   "source": [
    "## Pandas contains a variety of statistical methods — mean, median, mode, standard deviation etc."
   ]
  },
  {
   "cell_type": "code",
   "execution_count": 19,
   "id": "5dcfd2c5",
   "metadata": {},
   "outputs": [
    {
     "name": "stdout",
     "output_type": "stream",
     "text": [
      "sepal_length    5.843333\n",
      "sepal_width     3.054000\n",
      "petal_length    3.758667\n",
      "petal_width     1.198667\n",
      "dtype: float64\n"
     ]
    },
    {
     "name": "stderr",
     "output_type": "stream",
     "text": [
      "C:\\Users\\wooihaw\\AppData\\Local\\Temp\\ipykernel_15680\\4024397745.py:2: FutureWarning: Dropping of nuisance columns in DataFrame reductions (with 'numeric_only=None') is deprecated; in a future version this will raise TypeError.  Select only valid columns before calling the reduction.\n",
      "  print(data.mean())\n"
     ]
    }
   ],
   "source": [
    "# Mean calculated on a DataFrame\n",
    "print(data.mean())"
   ]
  },
  {
   "cell_type": "code",
   "execution_count": 20,
   "id": "d40ea0f8",
   "metadata": {},
   "outputs": [
    {
     "name": "stdout",
     "output_type": "stream",
     "text": [
      "4.35\n"
     ]
    }
   ],
   "source": [
    "# Median calculated on a Series\n",
    "print(data.petal_length.median())"
   ]
  },
  {
   "cell_type": "code",
   "execution_count": 21,
   "id": "932b44f6",
   "metadata": {},
   "outputs": [
    {
     "name": "stdout",
     "output_type": "stream",
     "text": [
      "0    1.5\n",
      "Name: petal_length, dtype: float64\n"
     ]
    }
   ],
   "source": [
    "# Mode calculated on a Series\n",
    "print(data.petal_length.mode())"
   ]
  },
  {
   "cell_type": "code",
   "execution_count": 22,
   "id": "023b0fa0",
   "metadata": {},
   "outputs": [
    {
     "name": "stdout",
     "output_type": "stream",
     "text": [
      "1.7644204199522617 3.1131794183445156\n"
     ]
    }
   ],
   "source": [
    "# Standard dev, and variance on a series \n",
    "print(data.petal_length.std(), data.petal_length.var())"
   ]
  },
  {
   "cell_type": "code",
   "execution_count": 23,
   "id": "d531649f",
   "metadata": {},
   "outputs": [
    {
     "name": "stdout",
     "output_type": "stream",
     "text": [
      "       sepal_length  sepal_width  petal_length  petal_width\n",
      "count    150.000000   150.000000    150.000000   150.000000\n",
      "mean       5.843333     3.054000      3.758667     1.198667\n",
      "std        0.828066     0.433594      1.764420     0.763161\n",
      "min        4.300000     2.000000      1.000000     0.100000\n",
      "25%        5.100000     2.800000      1.600000     0.300000\n",
      "50%        5.800000     3.000000      4.350000     1.300000\n",
      "75%        6.400000     3.300000      5.100000     1.800000\n",
      "max        7.900000     4.400000      6.900000     2.500000\n"
     ]
    }
   ],
   "source": [
    "# Multiple statisccal calculations can be presented in a DataFrame\n",
    "print(data.describe())"
   ]
  },
  {
   "cell_type": "markdown",
   "id": "c0f8525d",
   "metadata": {},
   "source": [
    "## Data can be assigned to a DataFrame column"
   ]
  },
  {
   "cell_type": "code",
   "execution_count": 24,
   "id": "adc55862",
   "metadata": {},
   "outputs": [
    {
     "name": "stdout",
     "output_type": "stream",
     "text": [
      "     sepal_length  sepal_width  petal_length  petal_width         species  \\\n",
      "0             5.1          3.5           1.4          0.2     Iris-setosa   \n",
      "1             4.9          3.0           1.4          0.2     Iris-setosa   \n",
      "2             4.7          3.2           1.3          0.2     Iris-setosa   \n",
      "3             4.6          3.1           1.5          0.2     Iris-setosa   \n",
      "4             5.0          3.6           1.4          0.2     Iris-setosa   \n",
      "..            ...          ...           ...          ...             ...   \n",
      "145           6.7          3.0           5.2          2.3  Iris-virginica   \n",
      "146           6.3          2.5           5.0          1.9  Iris-virginica   \n",
      "147           6.5          3.0           5.2          2.0  Iris-virginica   \n",
      "148           6.2          3.4           5.4          2.3  Iris-virginica   \n",
      "149           5.9          3.0           5.1          1.8  Iris-virginica   \n",
      "\n",
      "     sepal_area  \n",
      "0         17.85  \n",
      "1         14.70  \n",
      "2         15.04  \n",
      "3         14.26  \n",
      "4         18.00  \n",
      "..          ...  \n",
      "145       20.10  \n",
      "146       15.75  \n",
      "147       19.50  \n",
      "148       21.08  \n",
      "149       17.70  \n",
      "\n",
      "[150 rows x 6 columns]\n"
     ]
    }
   ],
   "source": [
    "# Create a new column that is a product \n",
    "# of both measurements\n",
    "data['sepal_area'] = data.sepal_length * data.sepal_width\n",
    "\n",
    "print(data)"
   ]
  },
  {
   "cell_type": "markdown",
   "id": "27874655",
   "metadata": {},
   "source": [
    "## Two DataFrames can be concatenated along either dimension"
   ]
  },
  {
   "cell_type": "code",
   "execution_count": 25,
   "id": "37b5968d",
   "metadata": {},
   "outputs": [
    {
     "name": "stdout",
     "output_type": "stream",
     "text": [
      "     sepal_length  sepal_width  petal_length  petal_width         species  \\\n",
      "0             5.1          3.5           1.4          0.2     Iris-setosa   \n",
      "1             4.9          3.0           1.4          0.2     Iris-setosa   \n",
      "148           6.2          3.4           5.4          2.3  Iris-virginica   \n",
      "149           5.9          3.0           5.1          1.8  Iris-virginica   \n",
      "\n",
      "     sepal_area  \n",
      "0         17.85  \n",
      "1         14.70  \n",
      "148       21.08  \n",
      "149       17.70  \n"
     ]
    }
   ],
   "source": [
    "# Concatenate the first two and the last two rows\n",
    "first2 = data.iloc[:2]\n",
    "last2 = data.iloc[-2:]\n",
    "small_data = pd.concat([first2, last2])\n",
    "print(small_data)"
   ]
  }
 ],
 "metadata": {
  "kernelspec": {
   "display_name": "Python 3.9.12 ('py3912')",
   "language": "python",
   "name": "python3"
  },
  "language_info": {
   "codemirror_mode": {
    "name": "ipython",
    "version": 3
   },
   "file_extension": ".py",
   "mimetype": "text/x-python",
   "name": "python",
   "nbconvert_exporter": "python",
   "pygments_lexer": "ipython3",
   "version": "3.9.12"
  },
  "vscode": {
   "interpreter": {
    "hash": "9e7d21c8ad8e3bbf31f934533113272036caf2d9f702b5afb352e952d3de09f6"
   }
  }
 },
 "nbformat": 4,
 "nbformat_minor": 5
}
