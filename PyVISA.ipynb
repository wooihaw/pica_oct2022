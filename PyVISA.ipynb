{
 "cells": [
  {
   "cell_type": "markdown",
   "id": "af95bb96",
   "metadata": {},
   "source": [
    "# PyVISA"
   ]
  },
  {
   "cell_type": "markdown",
   "id": "bfa1ed45",
   "metadata": {},
   "source": [
    "### List resources, open resource"
   ]
  },
  {
   "cell_type": "code",
   "execution_count": 1,
   "id": "1f856379",
   "metadata": {},
   "outputs": [
    {
     "name": "stdout",
     "output_type": "stream",
     "text": [
      "Resource Manager of Visa Library at C:\\Windows\\system32\\visa32.dll\n",
      "('USB0::0x0957::0x1797::MY55460289::0::INSTR',)\n",
      "AGILENT TECHNOLOGIES,MSO-X 2022A,MY55460289,02.41.2015102200\n",
      "\n"
     ]
    }
   ],
   "source": [
    "import pyvisa \n",
    "rm = pyvisa.ResourceManager()\n",
    "# Print what backend is used\n",
    "print(rm)\n",
    "\n",
    "# Print list of available resources\n",
    "print(rm.list_resources())\n",
    "\n",
    "# Open the resource\n",
    "mso = rm.open_resource(rm.list_resources()[0])\n",
    "\n",
    "# Write a command \n",
    "res = mso.query('*IDN?')\n",
    "\n",
    "# print the response\n",
    "print(res)"
   ]
  },
  {
   "cell_type": "markdown",
   "id": "716d23c6",
   "metadata": {},
   "source": [
    "### Change settings"
   ]
  },
  {
   "cell_type": "code",
   "execution_count": 6,
   "id": "7b0ead8e",
   "metadata": {},
   "outputs": [
    {
     "data": {
      "text/plain": [
       "12"
      ]
     },
     "execution_count": 6,
     "metadata": {},
     "output_type": "execute_result"
    }
   ],
   "source": [
    "# Use auto-scale for automatic set up \n",
    "mso.write(\":AUToscale\")"
   ]
  },
  {
   "cell_type": "code",
   "execution_count": 3,
   "id": "72858a03",
   "metadata": {},
   "outputs": [
    {
     "name": "stdout",
     "output_type": "stream",
     "text": [
      "Trigger mode: EDGE\n",
      "\n"
     ]
    }
   ],
   "source": [
    "# Set trigger mode\n",
    "mso.write(\":TRIGger:MODE EDGE\")\n",
    "qresult = mso.query(\":TRIGger:MODE?\")\n",
    "print(f\"Trigger mode: {qresult}\")"
   ]
  },
  {
   "cell_type": "code",
   "execution_count": 5,
   "id": "9a2f2190",
   "metadata": {},
   "outputs": [
    {
     "name": "stdout",
     "output_type": "stream",
     "text": [
      "Trigger edge source:CHAN1\n",
      "\n",
      "Trigger edge level: +100.00E-03\n",
      "\n",
      "Trigger edge slope: POS\n",
      "\n"
     ]
    }
   ],
   "source": [
    "# Set EDGE trigger parameters.\n",
    "mso.write(\":TRIGger:EDGE:SOURce CHANnel1\")\n",
    "qresult = mso.query(\":TRIGger:EDGE:SOURce?\")\n",
    "print(f\"Trigger edge source:{qresult}\")\n",
    "mso.write(\":TRIGger:EDGE:LEVel 0.1\")\n",
    "qresult = mso.query(\":TRIGger:EDGE:LEVel?\")\n",
    "print(f\"Trigger edge level: {qresult}\")\n",
    "mso.write(\":TRIGger:EDGE:SLOPe POSitive\")\n",
    "qresult = mso.query(\":TRIGger:EDGE:SLOPe?\")\n",
    "print(f\"Trigger edge slope: {qresult}\")"
   ]
  },
  {
   "cell_type": "code",
   "execution_count": 8,
   "id": "db7b0604",
   "metadata": {},
   "outputs": [
    {
     "name": "stdout",
     "output_type": "stream",
     "text": [
      "Channel 1 vertical scale: +1.00E+00\n",
      "\n",
      "Channel 1 offset: +0.0E+00\n",
      "\n"
     ]
    }
   ],
   "source": [
    "# Set vertical scale and offset.\n",
    "mso.write(\":CHANnel1:SCALe 1v\")\n",
    "qresult = mso.query(\":CHANnel1:SCALe?\")\n",
    "print(f\"Channel 1 vertical scale: {qresult}\")\n",
    "mso.write(\":CHANnel1:OFFSet 0.0\")\n",
    "qresult = mso.query(\":CHANnel1:OFFSet?\")\n",
    "print(f\"Channel 1 offset: {qresult}\")"
   ]
  },
  {
   "cell_type": "code",
   "execution_count": 9,
   "id": "94f2bb95",
   "metadata": {},
   "outputs": [
    {
     "name": "stdout",
     "output_type": "stream",
     "text": [
      "Timebase scale: +200.0E-06\n",
      "\n",
      "Timebase position: +0.0E+00\n",
      "\n"
     ]
    }
   ],
   "source": [
    "# Set horizontal scale and offset.\n",
    "mso.write(\":TIMebase:SCALe 200e-6\")\n",
    "qresult = mso.query(\":TIMebase:SCALe?\")\n",
    "print(f\"Timebase scale: {qresult}\")\n",
    "mso.write(\":TIMebase:POSition 0.0\")\n",
    "qresult = mso.query(\":TIMebase:POSition?\")\n",
    "print(f\"Timebase position: {qresult}\")"
   ]
  },
  {
   "cell_type": "markdown",
   "id": "653f03a9",
   "metadata": {},
   "source": [
    "### Make measurements"
   ]
  },
  {
   "cell_type": "code",
   "execution_count": 10,
   "id": "88611988",
   "metadata": {},
   "outputs": [
    {
     "name": "stdout",
     "output_type": "stream",
     "text": [
      "Measure source: CHAN1,CHAN2\n",
      "\n",
      "Measured frequency on channel 1: +1.9982E+03\n",
      "\n",
      "Measured vertical amplitude on channel 1: +1.13E+00\n",
      "\n"
     ]
    }
   ],
   "source": [
    "# Capture an acquisition using :DIGitize.\n",
    "mso.write(\":DIGitize CHANnel1\")\n",
    "\n",
    "# Make measurements.\n",
    "mso.write(\":MEASure:SOURce CHANnel1\")\n",
    "qresult = mso.query(\":MEASure:SOURce?\")\n",
    "print(f\"Measure source: {qresult}\")\n",
    "mso.write(\":MEASure:FREQuency\")\n",
    "qresult = mso.query(\":MEASure:FREQuency?\")\n",
    "print(f\"Measured frequency on channel 1: {qresult}\")\n",
    "mso.write(\":MEASure:VAMPlitude\")\n",
    "qresult = mso.query(\":MEASure:VAMPlitude?\")\n",
    "print(f\"Measured vertical amplitude on channel 1: {qresult}\")\n"
   ]
  },
  {
   "cell_type": "markdown",
   "id": "804933c6",
   "metadata": {},
   "source": [
    "### Capture screen"
   ]
  },
  {
   "cell_type": "code",
   "execution_count": 11,
   "id": "e1a0334a",
   "metadata": {},
   "outputs": [
    {
     "name": "stdout",
     "output_type": "stream",
     "text": [
      "Screen image written.\n"
     ]
    },
    {
     "data": {
      "image/png": "[encoded data removed]",
      "text/plain": [
       "<Figure size 432x288 with 1 Axes>"
      ]
     },
     "metadata": {
      "needs_background": "light"
     },
     "output_type": "display_data"
    }
   ],
   "source": [
    "# Download the screen.\n",
    "mso.write(\":HARDcopy:INKSaver OFF\")\n",
    "sDisplay  = mso.query_binary_values(\":DISPlay:DATA? PNG, COLor\", datatype=\"s\")\n",
    "# Save display data values to file.\n",
    "# with open(\"screen_image.png\", \"wb\") as f:\n",
    "#     f.write(bytes(sDisplay))\n",
    "print(\"Screen image written.\")\n",
    "\n",
    "import matplotlib.pyplot as plt\n",
    "import matplotlib.image as mpimg\n",
    "import io\n",
    "\n",
    "img = bytes(sDisplay)\n",
    "with io.BytesIO(img) as fp:\n",
    "    i = mpimg.imread(fp, format='png')\n",
    "plt.imshow(i)\n",
    "plt.axis(False)\n",
    "plt.show()"
   ]
  },
  {
   "cell_type": "markdown",
   "id": "4162ebc1",
   "metadata": {},
   "source": [
    "### Download waveform data"
   ]
  },
  {
   "cell_type": "code",
   "execution_count": 12,
   "id": "90c40063",
   "metadata": {},
   "outputs": [
    {
     "name": "stdout",
     "output_type": "stream",
     "text": [
      "Waveform source: CHAN1\n",
      "\n",
      "Waveform format: BYTE\n",
      "\n",
      "Waveform points mode: RAW\n",
      "\n",
      "Waveform points available: +10000\n",
      "\n",
      "Number of data values: 10000\n",
      "Waveform data written.\n"
     ]
    }
   ],
   "source": [
    "# Set the waveform source.\n",
    "mso.write(\":WAVeform:SOURce CHANnel1\")\n",
    "qresult = mso.query(\":WAVeform:SOURce?\")\n",
    "print(\"Waveform source: %s\" % qresult)\n",
    "\n",
    "# Choose the format of the data returned:\n",
    "mso.write(\":WAVeform:FORMat BYTE\")\n",
    "print(f'Waveform format: {mso.query(\":WAVeform:FORMat?\")}')\n",
    "    \n",
    "# Set the waveform points \n",
    "mso.write(\":WAVeform:POINts:MODE RAW\")\n",
    "qresult = mso.query(\":WAVeform:POINts:MODE?\")\n",
    "print(f\"Waveform points mode: {qresult}\")\n",
    "\n",
    "# Get the number of waveform points available.\n",
    "mso.write(\":WAVeform:POINts 10000\")\n",
    "qresult = mso.query(\":WAVeform:POINts?\")\n",
    "print(f\"Waveform points available: {qresult}\")\n",
    "\n",
    "# Get numeric values for later calculations.\n",
    "x_increment = float(mso.query(\":WAVeform:XINCrement?\"))\n",
    "x_origin = float(mso.query(\":WAVeform:XORigin?\"))\n",
    "y_increment = float(mso.query(\":WAVeform:YINCrement?\"))\n",
    "y_origin = float(mso.query(\":WAVeform:YORigin?\"))\n",
    "x_reference = float(mso.query(\":WAVeform:XREFerence?\"))\n",
    "y_reference = float(mso.query(\":WAVeform:YREFerence?\"))\n",
    "\n",
    "# Get the waveform data.\n",
    "sData = mso.query_binary_values(\":WAVeform:DATA?\", datatype=\"s\")\n",
    "print(f\"Number of data values: {len(sData)}\")\n",
    "with open(\"data/waveform_data.csv\", \"w\") as f:\n",
    "    for i in range(0, len(sData) - 1):\n",
    "        time_val = x_origin + ((i - x_reference) * x_increment)\n",
    "        voltage = ((sData[i] - y_reference) * y_increment) + y_origin\n",
    "        f.write(f\"{time_val}, {voltage}\\n\")\n",
    "print(\"Waveform data written.\")\n"
   ]
  },
  {
   "cell_type": "code",
   "execution_count": 13,
   "id": "3f6cce2d",
   "metadata": {},
   "outputs": [],
   "source": [
    "# Close resource\n",
    "mso.close()"
   ]
  },
  {
   "cell_type": "code",
   "execution_count": null,
   "id": "32d8eb4c",
   "metadata": {},
   "outputs": [],
   "source": [
    "# Close session\n",
    "rm.close()"
   ]
  }
 ],
 "metadata": {
  "kernelspec": {
   "display_name": "Python 3.9.12 ('py3912')",
   "language": "python",
   "name": "python3"
  },
  "language_info": {
   "codemirror_mode": {
    "name": "ipython",
    "version": 3
   },
   "file_extension": ".py",
   "mimetype": "text/x-python",
   "name": "python",
   "nbconvert_exporter": "python",
   "pygments_lexer": "ipython3",
   "version": "3.9.12"
  },
  "vscode": {
   "interpreter": {
    "hash": "9e7d21c8ad8e3bbf31f934533113272036caf2d9f702b5afb352e952d3de09f6"
   }
  }
 },
 "nbformat": 4,
 "nbformat_minor": 5
}
